{
  "nbformat": 4,
  "nbformat_minor": 0,
  "metadata": {
    "colab": {
      "name": "pm_python.ipynb",
      "provenance": [],
      "authorship_tag": "ABX9TyPa34AWOsM1mf/CEHSOA4cA",
      "include_colab_link": true
    },
    "kernelspec": {
      "name": "python3",
      "display_name": "Python 3"
    }
  },
  "cells": [
    {
      "cell_type": "markdown",
      "metadata": {
        "id": "view-in-github",
        "colab_type": "text"
      },
      "source": [
        "<a href=\"https://colab.research.google.com/github/kulbir-ahluwalia/CMSC818B_MiniProject_2/blob/main/python/pm_python.ipynb\" target=\"_parent\"><img src=\"https://colab.research.google.com/assets/colab-badge.svg\" alt=\"Open In Colab\"/></a>"
      ]
    },
    {
      "cell_type": "code",
      "metadata": {
        "id": "Rhy51H5ixNY1",
        "colab": {
          "base_uri": "https://localhost:8080/"
        },
        "outputId": "94cc271d-031e-4208-94f8-5ac9d81181c1"
      },
      "source": [
        "## Get the required python files\n",
        "!wget https://raw.githubusercontent.com/kulbir-ahluwalia/CMSC818B_MiniProject_2/main/python/actors.py\n",
        "!wget https://raw.githubusercontent.com/kulbir-ahluwalia/CMSC818B_MiniProject_2/main/python/env.py"
      ],
      "execution_count": 1,
      "outputs": [
        {
          "output_type": "stream",
          "text": [
            "--2020-12-04 04:35:59--  https://raw.githubusercontent.com/kulbir-ahluwalia/CMSC818B_MiniProject_2/main/python/actors.py\n",
            "Resolving raw.githubusercontent.com (raw.githubusercontent.com)... 151.101.0.133, 151.101.64.133, 151.101.128.133, ...\n",
            "Connecting to raw.githubusercontent.com (raw.githubusercontent.com)|151.101.0.133|:443... connected.\n",
            "HTTP request sent, awaiting response... 200 OK\n",
            "Length: 5622 (5.5K) [text/plain]\n",
            "Saving to: ‘actors.py’\n",
            "\n",
            "actors.py           100%[===================>]   5.49K  --.-KB/s    in 0s      \n",
            "\n",
            "2020-12-04 04:35:59 (68.1 MB/s) - ‘actors.py’ saved [5622/5622]\n",
            "\n",
            "--2020-12-04 04:35:59--  https://raw.githubusercontent.com/kulbir-ahluwalia/CMSC818B_MiniProject_2/main/python/env.py\n",
            "Resolving raw.githubusercontent.com (raw.githubusercontent.com)... 151.101.0.133, 151.101.64.133, 151.101.128.133, ...\n",
            "Connecting to raw.githubusercontent.com (raw.githubusercontent.com)|151.101.0.133|:443... connected.\n",
            "HTTP request sent, awaiting response... 200 OK\n",
            "Length: 6874 (6.7K) [text/plain]\n",
            "Saving to: ‘env.py’\n",
            "\n",
            "env.py              100%[===================>]   6.71K  --.-KB/s    in 0s      \n",
            "\n",
            "2020-12-04 04:35:59 (72.4 MB/s) - ‘env.py’ saved [6874/6874]\n",
            "\n"
          ],
          "name": "stdout"
        }
      ]
    },
    {
      "cell_type": "code",
      "metadata": {
        "id": "oTjxCbRgxYj5",
        "colab": {
          "base_uri": "https://localhost:8080/"
        },
        "outputId": "6b5f7e08-076e-4579-a7e2-af2c13c06a08"
      },
      "source": [
        "!pip install pygame"
      ],
      "execution_count": 13,
      "outputs": [
        {
          "output_type": "stream",
          "text": [
            "Collecting pygame\n",
            "\u001b[?25l  Downloading https://files.pythonhosted.org/packages/87/4c/2ebe8ab1a695a446574bc48d96eb3503649893be8c769e7fafd65fd18833/pygame-2.0.0-cp36-cp36m-manylinux1_x86_64.whl (11.5MB)\n",
            "\u001b[K     |████████████████████████████████| 11.5MB 5.1MB/s \n",
            "\u001b[?25hInstalling collected packages: pygame\n",
            "Successfully installed pygame-2.0.0\n"
          ],
          "name": "stdout"
        }
      ]
    },
    {
      "cell_type": "code",
      "metadata": {
        "id": "sQbaTdYq2Nng"
      },
      "source": [
        "%load_ext autoreload\n",
        "%autoreload 2"
      ],
      "execution_count": 14,
      "outputs": []
    },
    {
      "cell_type": "code",
      "metadata": {
        "id": "_1TnTnUo9-1p",
        "colab": {
          "base_uri": "https://localhost:8080/"
        },
        "outputId": "eaa9bd8d-20f6-472c-e7ca-fc195298ad11"
      },
      "source": [
        "import cv2\n",
        "import numpy as np\n",
        "from google.colab.patches import cv2_imshow\n",
        "from google.colab import output\n",
        "import time \n",
        "import os, sys\n",
        "import pygame\n",
        "\n",
        "\n",
        "# set SDL to use the dummy NULL video driver, \n",
        "#   so it doesn't need a windowing system.\n",
        "os.environ[\"SDL_VIDEODRIVER\"] = \"dummy\""
      ],
      "execution_count": 15,
      "outputs": [
        {
          "output_type": "stream",
          "text": [
            "pygame 2.0.0 (SDL 2.0.12, python 3.6.9)\n",
            "Hello from the pygame community. https://www.pygame.org/contribute.html\n"
          ],
          "name": "stdout"
        }
      ]
    },
    {
      "cell_type": "code",
      "metadata": {
        "id": "MtQb9iil-DZz"
      },
      "source": [
        "## Import classes for elements and visualization\n",
        "from actors import Player, Obstacle, Drone\n",
        "from env import Canvas, process_into_image, process_img, get_obstacles, get_droneview, update_all, process_screen"
      ],
      "execution_count": 16,
      "outputs": []
    },
    {
      "cell_type": "markdown",
      "metadata": {
        "id": "AJloCM75-3Va"
      },
      "source": [
        "### Defining the environement"
      ]
    },
    {
      "cell_type": "code",
      "metadata": {
        "id": "wn3rFSyn-F2z"
      },
      "source": [
        "## Canvas is the grid we are going to use\n",
        "canvas = Canvas(300,300)\n",
        "\n",
        "## Create the robots\n",
        "playerList = []\n",
        "playerList.append(Player(pos=[20, 10], color='g', size=10))\n",
        "playerList.append(Player(pos=[0, 260], color='g', size=10))\n",
        "playerList.append(Player(pos=[200, 10], color='g', size=10))\n",
        "playerList.append(Player(pos=[250, 200], color='g', size=10))\n",
        "# playerList.append(Player(pos=[200, 300], color='g', size=10))\n",
        "# playerList.append(Player(pos=[400, 400], color='g', size=10))\n",
        "\n",
        "## Create teh robots at random locations\n",
        "n_obj = 20 # number of objects\n",
        "obstacleList = []\n",
        "# obstacleList.append(Obstacle(pos=[60, 60], size=[10,15]))\n",
        "# obstacleList.append(Obstacle(pos=[60, 60],size=[20,10]))\n",
        "r_coords = np.random.randint(0, canvas.height, (n_obj)) # random rows\n",
        "c_coords = np.random.randint(0, canvas.width, (n_obj)) # random columns\n",
        "# Width and height would be chosen from 10,15,20,25,30 randomly\n",
        "for i in range(len(r_coords)):\n",
        "    obstacleList.append(Obstacle(pos=[r_coords[i], c_coords[i]], \n",
        "                                 size=[np.random.choice([10,15,20,25,30]),np.random.choice([10,15,20,25,30])]))\n",
        "\n",
        "\n",
        "### Add drone to the environememnt\n",
        "droneList = []\n",
        "droneList.append(Drone(pos=[150,150], color='b',  size=100))"
      ],
      "execution_count": 30,
      "outputs": []
    },
    {
      "cell_type": "markdown",
      "metadata": {
        "id": "elzLFt7I_b-_"
      },
      "source": [
        "### Algorithms for testing"
      ]
    },
    {
      "cell_type": "code",
      "metadata": {
        "id": "QCUTHZ-6-QO0"
      },
      "source": [
        "# pygame.init()\n",
        "\n",
        "## Step size. How many grids would the robot move at each step\n",
        "step_size = playerList[0].size\n",
        "\n",
        "## the dictionary defniing how many to update the location\n",
        "move_dict = {\n",
        "    'left' : np.array([0, -step_size]),\n",
        "    'up' : np.array([-step_size,0]),\n",
        "    'right' : np.array([0, step_size]),\n",
        "    'down' : np.array([step_size,0])\n",
        "}\n",
        "\n",
        "\n",
        "    \n"
      ],
      "execution_count": 31,
      "outputs": []
    },
    {
      "cell_type": "markdown",
      "metadata": {
        "id": "WtiZ9cyt_hz4"
      },
      "source": [
        "#### Lawnmower algorithm with *hover over buildings*"
      ]
    },
    {
      "cell_type": "code",
      "metadata": {
        "id": "pyuOMywb_ann"
      },
      "source": [
        "## Order of moves for anti-clockwise movement\n",
        "anti_clock_order_dict = {'up' : 0,\n",
        "                    'right': 1,\n",
        "                    'down' : 2,\n",
        "                    'left': 3}\n",
        "anti_clock_order = ['down', 'right', 'up', 'left']\n",
        "\n",
        "## Function to check if a location is valid (within grid)\n",
        "def is_valid(pos, limits):\n",
        "    if ((pos[0] < 0) or (pos[1] < 0) or (pos[0] >= limits[0]) or (pos[1] >= limits[1])):\n",
        "        return False\n",
        "    else:\n",
        "        return True\n",
        "\n",
        "## The lawnmower algorithm\n",
        "def lawn_mover(player, data_img):\n",
        "    pos = player.pos  # Get players location\n",
        "    obstacle = (data_img[:,:,0] > 0).astype(int) # get grid indicating where objects are\n",
        "    covered = (data_img[:,:,1] > 0).astype(int) # get grid indicating which areas have been covered\n",
        "    # covered[data_img[:,:,1] == 255] = 0\n",
        "\n",
        "    # if the last action is not recorded, move to left or right as per the row\n",
        "    if player.prev_action == None:\n",
        "        player.prev_action = ['right', 'left'][pos[1]%2]\n",
        "    \n",
        "\n",
        "    ####\n",
        "    ## Iterate over each direction, till yu find a valid orientation to move\n",
        "    for i in range(4):\n",
        "        player.prev_action = anti_clock_order[(anti_clock_order_dict[player.prev_action]+i) %4]\n",
        "        move = move_dict[player.prev_action]\n",
        "        print('CHECK: ', pos, move, player.prev_action)\n",
        "        temp_pos = pos + move\n",
        "        if not is_valid(temp_pos, data_img.shape[:2]):\n",
        "            continue\n",
        "        else:\n",
        "            if (covered[temp_pos[0], temp_pos[1]] == 1):# or (obstacle[temp_pos[0], temp_pos[1]] == 1):\n",
        "            # if (obstacle[temp_pos[0], temp_pos[1]] == 1):\n",
        "                continue\n",
        "            else:\n",
        "                break\n",
        "    return temp_pos\n",
        "\n"
      ],
      "execution_count": 32,
      "outputs": []
    },
    {
      "cell_type": "markdown",
      "metadata": {
        "id": "Lw1S3UyJ_aZA"
      },
      "source": [
        "#### Greedy movement"
      ]
    },
    {
      "cell_type": "code",
      "metadata": {
        "id": "aBYvQCiq--7j"
      },
      "source": [
        "## Greedy algorithm (distributed)\n",
        "def greedy_algorithm(player, data_img):\n",
        "    pos = player.pos #get player location\n",
        "    obstacle = data_img[:,:,2].astype(int) # get grid indicating where objects are\n",
        "    covered = (data_img[:,:,1]).astype(int) # get grid indicating which areas have been covered and how much latency is there\n",
        "    # covered[data_img[:,:,1] == 255] = 0\n",
        "    cost_grid = obstacle*10 + covered # give high cost to obstacles\n",
        "\n",
        "    # if the last action is not recorded, move to left or right as per the row\n",
        "    action_list = ['right', 'down', 'left', 'up']\n",
        "    if player.prev_action == None:\n",
        "        player.prev_action = ['right', 'left'][pos[0]%2]\n",
        "\n",
        "\n",
        "    #######\n",
        "    ## Looks into future move for all 4 directions, move whereever robot would have least cost\n",
        "    temp_action_list = []\n",
        "    temp_cost_list = []\n",
        "    for i in range(4):\n",
        "        new_action = action_list[ (action_list.index(player.prev_action) + i) % 4 ]\n",
        "        move = move_dict[ new_action ]\n",
        "        \n",
        "        temp_pos = pos + move\n",
        "        # print('CHECK: ', pos, temp_pos, new_action)\n",
        "        if not is_valid(temp_pos, data_img.shape[:2]):\n",
        "            # print('NOT Valid: ', pos, temp_pos)\n",
        "            temp_action_list.append(new_action)\n",
        "            temp_cost_list.append(50000)\n",
        "            # continue\n",
        "        else:\n",
        "            # if (covered[temp_pos[0], temp_pos[1]] == 1) or (obstacle[temp_pos[0], temp_pos[1]] == 1):\n",
        "            temp_action_list.append(new_action)\n",
        "            temp_cost = np.sum(cost_grid[max(0,temp_pos[0]-player.size):min(temp_pos[0]+player.size, data_img.shape[0]), \n",
        "                                         max(0, temp_pos[1]-player.size): min(temp_pos[1]+player.size,data_img.shape[1])])\n",
        "            temp_cost_list.append(temp_cost)\n",
        "\n",
        "                # print('OCCUPIED: ', covered[temp_pos[0], temp_pos[1]], obstacle[temp_pos[0], temp_pos[1]] )\n",
        "            #     continue\n",
        "            # else:\n",
        "            #     break\n",
        "\n",
        "    # print('Costs: ', temp_cost_list)\n",
        "    # print('Actions: ', temp_action_list)\n",
        "\n",
        "    # Choose next action based on where the cost would be least\n",
        "    new_action = temp_action_list[np.argmin(temp_cost_list)]\n",
        "    temp_pos = pos + move_dict[ new_action ]\n",
        "\n",
        "    # update last action\n",
        "    player.prev_action = new_action\n",
        "    \n",
        "    # if teh move is not valid, do not move\n",
        "    if not is_valid(temp_pos, data_img.shape[:2]):\n",
        "        temp_pos = pos\n",
        "        \n",
        "    return temp_pos\n"
      ],
      "execution_count": 33,
      "outputs": []
    },
    {
      "cell_type": "code",
      "metadata": {
        "id": "u-bYqi6N-KPb"
      },
      "source": [
        "### Envoronemtn image as a numpy array\n",
        "data_img = np.zeros(canvas.grid.shape+(3,))\n",
        "# data_img = init_env(canvas, playerList, obstacleList, droneList)\n",
        "### Coverage information\n",
        "coverage = np.zeros(canvas.grid.shape, dtype=np.uint8)\n",
        "#### Drone Map\n",
        "drone_map = np.zeros(canvas.grid.shape+(3,), dtype=np.uint8)\n",
        "## Run for 300 iterations\n",
        "latency_factor = 2\n",
        "for i in range(300):\n",
        "\n",
        "    ### Get next location for each robot\n",
        "    for player in playerList:\n",
        "        # player.pos = lawn_mover(player, data_img)\n",
        "        player.pos = greedy_algorithm(player, data_img)\n",
        "        # player.move(np.random.choice(['up', 'down', 'left', 'right']), player.size, canvas)\n",
        "\n",
        "\n",
        "    for drone in droneList:\n",
        "         drone.move(np.random.choice(['up', 'down', 'left', 'right']), drone.size//10, canvas)   \n",
        "\n",
        "    update_all(canvas, playerList, obstacleList, droneList) \n",
        "\n",
        "\n",
        "    covergae, data_img = process_screen(my_coverage=coverage, my_canvas=canvas)\n",
        "    obstacle_map = get_obstacles(data_img)\n",
        "    \n",
        "    # drone_map = get_droneview(drone_map, data_img, latency_factor)\n",
        "    drone_map = get_droneview(drone_map, data_img, latency_factor, droneList)\n",
        "    #Display image, clear cell every 0.5 seconds\n",
        "    #convert image so it can be displayed in OpenCV\n",
        "    ## UNCOMMENT IN CASE OF ISSUE\n",
        "    # view = pygame.surfarray.array3d(canvas.screen)\n",
        "    \n",
        "    #  convert from (width, height, channel) to (height, width, channel)\n",
        "    ## UNCOMMENT  NEXT 2 LINES IN CASE OF ERROR\n",
        "    # view = view.transpose([1, 0, 2])\n",
        "    # img_bgr = cv2.cvtColor(view, cv2.COLOR_RGB2BGR)\n",
        "\n",
        "    # cv2_imshow(data_img) #img_bgr[yv, xv])\n",
        "    print('\\t\\t Environment \\t\\t\\t Drone View ')\n",
        "    cv2_imshow(np.hstack([data_img, drone_map]))\n",
        "    print('\\t\\t Coverage \\t\\t\\t Obstacles ')\n",
        "    cv2_imshow(np.hstack([coverage, 255*obstacle_map]))\n",
        "    \n",
        "\n",
        "    ## Wait 0.1 second before running next iteration\n",
        "    time.sleep(0.1)\n",
        "    output.clear()\n",
        "\n",
        "    # if i == 3:\n",
        "    #     break\n",
        "\n"
      ],
      "execution_count": null,
      "outputs": []
    },
    {
      "cell_type": "markdown",
      "metadata": {
        "id": "oChiLXbJUUdJ"
      },
      "source": [
        "## Gym like Env"
      ]
    },
    {
      "cell_type": "code",
      "metadata": {
        "id": "4uZ0pOWcUUIM",
        "outputId": "f59e338b-e533-45c6-a71d-8a74c2ef9d34",
        "colab": {
          "base_uri": "https://localhost:8080/"
        }
      },
      "source": [
        "## Get the required python files\n",
        "!wget https://raw.githubusercontent.com/kulbir-ahluwalia/CMSC818B_MiniProject_2/main/python/actors.py\n",
        "!wget https://raw.githubusercontent.com/kulbir-ahluwalia/CMSC818B_MiniProject_2/main/python/env.py"
      ],
      "execution_count": 1,
      "outputs": [
        {
          "output_type": "stream",
          "text": [
            "--2020-12-04 06:00:28--  https://raw.githubusercontent.com/kulbir-ahluwalia/CMSC818B_MiniProject_2/main/python/actors.py\n",
            "Resolving raw.githubusercontent.com (raw.githubusercontent.com)... 151.101.0.133, 151.101.64.133, 151.101.128.133, ...\n",
            "Connecting to raw.githubusercontent.com (raw.githubusercontent.com)|151.101.0.133|:443... connected.\n",
            "HTTP request sent, awaiting response... 200 OK\n",
            "Length: 5622 (5.5K) [text/plain]\n",
            "Saving to: ‘actors.py.1’\n",
            "\n",
            "\ractors.py.1           0%[                    ]       0  --.-KB/s               \ractors.py.1         100%[===================>]   5.49K  --.-KB/s    in 0s      \n",
            "\n",
            "2020-12-04 06:00:29 (41.1 MB/s) - ‘actors.py.1’ saved [5622/5622]\n",
            "\n",
            "--2020-12-04 06:00:29--  https://raw.githubusercontent.com/kulbir-ahluwalia/CMSC818B_MiniProject_2/main/python/env.py\n",
            "Resolving raw.githubusercontent.com (raw.githubusercontent.com)... 151.101.0.133, 151.101.64.133, 151.101.128.133, ...\n",
            "Connecting to raw.githubusercontent.com (raw.githubusercontent.com)|151.101.0.133|:443... connected.\n",
            "HTTP request sent, awaiting response... 200 OK\n",
            "Length: 6874 (6.7K) [text/plain]\n",
            "Saving to: ‘env.py.1’\n",
            "\n",
            "env.py.1            100%[===================>]   6.71K  --.-KB/s    in 0s      \n",
            "\n",
            "2020-12-04 06:00:29 (71.4 MB/s) - ‘env.py.1’ saved [6874/6874]\n",
            "\n"
          ],
          "name": "stdout"
        }
      ]
    },
    {
      "cell_type": "code",
      "metadata": {
        "id": "f0rXabCECEm3",
        "outputId": "54e1c653-98ab-4565-8bc3-34679f7d0cae",
        "colab": {
          "base_uri": "https://localhost:8080/"
        }
      },
      "source": [
        "!pip install gym\n",
        "!pip install pygame"
      ],
      "execution_count": 1,
      "outputs": [
        {
          "output_type": "stream",
          "text": [
            "Requirement already satisfied: gym in /usr/local/lib/python3.6/dist-packages (0.17.3)\n",
            "Requirement already satisfied: scipy in /usr/local/lib/python3.6/dist-packages (from gym) (1.4.1)\n",
            "Requirement already satisfied: numpy>=1.10.4 in /usr/local/lib/python3.6/dist-packages (from gym) (1.18.5)\n",
            "Requirement already satisfied: pyglet<=1.5.0,>=1.4.0 in /usr/local/lib/python3.6/dist-packages (from gym) (1.5.0)\n",
            "Requirement already satisfied: cloudpickle<1.7.0,>=1.2.0 in /usr/local/lib/python3.6/dist-packages (from gym) (1.3.0)\n",
            "Requirement already satisfied: future in /usr/local/lib/python3.6/dist-packages (from pyglet<=1.5.0,>=1.4.0->gym) (0.16.0)\n",
            "Requirement already satisfied: pygame in /usr/local/lib/python3.6/dist-packages (2.0.0)\n"
          ],
          "name": "stdout"
        }
      ]
    },
    {
      "cell_type": "code",
      "metadata": {
        "id": "E83rv_WjDzHh"
      },
      "source": [
        "%load_ext autoreload\n",
        "%autoreload 2"
      ],
      "execution_count": 2,
      "outputs": []
    },
    {
      "cell_type": "code",
      "metadata": {
        "id": "eBorTJq8Ugg8"
      },
      "source": [
        "import gym\n",
        "from gym import spaces"
      ],
      "execution_count": 3,
      "outputs": []
    },
    {
      "cell_type": "code",
      "metadata": {
        "id": "cQWaZjwGUnzW",
        "outputId": "200f244c-afdb-4af9-b96a-e533daae6696",
        "colab": {
          "base_uri": "https://localhost:8080/"
        }
      },
      "source": [
        "import cv2\n",
        "import numpy as np\n",
        "from google.colab.patches import cv2_imshow\n",
        "from google.colab import output\n",
        "import time \n",
        "import os, sys\n",
        "import pygame\n",
        "\n",
        "\n",
        "# set SDL to use the dummy NULL video driver, \n",
        "#   so it doesn't need a windowing system.\n",
        "os.environ[\"SDL_VIDEODRIVER\"] = \"dummy\""
      ],
      "execution_count": 4,
      "outputs": [
        {
          "output_type": "stream",
          "text": [
            "pygame 2.0.0 (SDL 2.0.12, python 3.6.9)\n",
            "Hello from the pygame community. https://www.pygame.org/contribute.html\n"
          ],
          "name": "stdout"
        }
      ]
    },
    {
      "cell_type": "code",
      "metadata": {
        "id": "iXOUZ8WHUnlO"
      },
      "source": [
        "## Import classes for elements and visualization\n",
        "from actors import Player, Obstacle, Drone\n",
        "from env import Canvas, process_into_image, process_img, get_obstacles, get_droneview, update_all, process_screen"
      ],
      "execution_count": 5,
      "outputs": []
    },
    {
      "cell_type": "markdown",
      "metadata": {
        "id": "otIxnFshV0fu"
      },
      "source": [
        "### Greedy Algorithm"
      ]
    },
    {
      "cell_type": "code",
      "metadata": {
        "id": "OTfv8Z2PVz_s"
      },
      "source": [
        "# pygame.init()\n",
        "\n",
        "## Step size. How many grids would the robot move at each step\n",
        "step_size = 10\n",
        "\n",
        "## the dictionary defniing how many to update the location\n",
        "move_dict = {\n",
        "    'left' : np.array([0, -step_size]),\n",
        "    'up' : np.array([-step_size,0]),\n",
        "    'right' : np.array([0, step_size]),\n",
        "    'down' : np.array([step_size,0])\n",
        "}\n",
        "\n",
        "## Function to check if a location is valid (within grid)\n",
        "def is_valid(pos, limits):\n",
        "    if ((pos[0] < 0) or (pos[1] < 0) or (pos[0] >= limits[0]) or (pos[1] >= limits[1])):\n",
        "        return False\n",
        "    else:\n",
        "        return True\n",
        "\n",
        "## Greedy algorithm (distributed)\n",
        "def greedy_algorithm(player, data_img):\n",
        "    pos = player.pos #get player location\n",
        "    obstacle = data_img[:,:,2].astype(int) # get grid indicating where objects are\n",
        "    covered = (data_img[:,:,1]).astype(int) # get grid indicating which areas have been covered and how much latency is there\n",
        "    # covered[data_img[:,:,1] == 255] = 0\n",
        "    cost_grid = obstacle*10 + covered # give high cost to obstacles\n",
        "\n",
        "    # if the last action is not recorded, move to left or right as per the row\n",
        "    action_list = ['right', 'down', 'left', 'up']\n",
        "    if player.prev_action == None:\n",
        "        player.prev_action = ['right', 'left'][pos[0]%2]\n",
        "\n",
        "\n",
        "    #######\n",
        "    ## Looks into future move for all 4 directions, move whereever robot would have least cost\n",
        "    temp_action_list = []\n",
        "    temp_cost_list = []\n",
        "    for i in range(4):\n",
        "        new_action = action_list[ (action_list.index(player.prev_action) + i) % 4 ]\n",
        "        move = move_dict[ new_action ]\n",
        "        \n",
        "        temp_pos = pos + move\n",
        "        # print('CHECK: ', pos, temp_pos, new_action)\n",
        "        if not is_valid(temp_pos, data_img.shape[:2]):\n",
        "            # print('NOT Valid: ', pos, temp_pos)\n",
        "            temp_action_list.append(new_action)\n",
        "            temp_cost_list.append(50000)\n",
        "            # continue\n",
        "        else:\n",
        "            # if (covered[temp_pos[0], temp_pos[1]] == 1) or (obstacle[temp_pos[0], temp_pos[1]] == 1):\n",
        "            temp_action_list.append(new_action)\n",
        "            temp_cost = np.sum(cost_grid[max(0,temp_pos[0]-player.size):min(temp_pos[0]+player.size, data_img.shape[0]), \n",
        "                                         max(0, temp_pos[1]-player.size): min(temp_pos[1]+player.size,data_img.shape[1])])\n",
        "            temp_cost_list.append(temp_cost)\n",
        "\n",
        "\n",
        "    # Choose next action based on where the cost would be least\n",
        "    new_action = temp_action_list[np.argmin(temp_cost_list)]\n",
        "    temp_pos = pos + move_dict[ new_action ]\n",
        "\n",
        "    # update last action\n",
        "    player.prev_action = new_action\n",
        "    \n",
        "    # if teh move is not valid, do not move\n",
        "    if not is_valid(temp_pos, data_img.shape[:2]):\n",
        "        temp_pos = pos\n",
        "        \n",
        "    return temp_pos\n"
      ],
      "execution_count": 6,
      "outputs": []
    },
    {
      "cell_type": "markdown",
      "metadata": {
        "id": "JhEwjd0HV1V4"
      },
      "source": [
        "### Environment Definition"
      ]
    },
    {
      "cell_type": "code",
      "metadata": {
        "id": "L3kymvswEZTN"
      },
      "source": [
        "N_DISCRETE_ACTIONS = 4"
      ],
      "execution_count": 7,
      "outputs": []
    },
    {
      "cell_type": "code",
      "metadata": {
        "id": "siC8SyiUD6uv"
      },
      "source": [
        "\n",
        "class PMGridEnv(gym.Env):\n",
        "  \"\"\"Custom Environment that follows gym interface\"\"\"\n",
        "  metadata = {'render.modes': ['human']}\n",
        "\n",
        "  def __init__(self, height, width, robot_info, drone_info, num_obstacles, drone_latency):\n",
        "    super(PMGridEnv, self).__init__()\n",
        "    # Define action and observation space\n",
        "    self.action_space = spaces.Discrete(N_DISCRETE_ACTIONS)\n",
        "    # using image as input (can be channel-first or channel-last):\n",
        "    self.observation_space = spaces.Box(low=0, high=255,\n",
        "                                        shape=(height, width, 3), dtype=np.uint8)\n",
        "\n",
        "    # To convert integer actions into string\n",
        "    self.action_list = ['up', 'down', 'left', 'right']\n",
        "\n",
        "    ## Canvas is the grid we are going to use\n",
        "    self.canvas = Canvas(height, width)\n",
        "\n",
        "    self.latency_factor = drone_latency\n",
        "\n",
        "    ## Create the robots\n",
        "    self.playerList = []\n",
        "    for i in range(len(robot_info)//3):\n",
        "        x_loc, y_loc, size = robot_info[3*i : 3*(i+1)]\n",
        "        self.playerList.append(Player(pos=[x_loc, y_loc], color='g', size=size))    \n",
        "    \n",
        "    ### Add drone to the environememnt\n",
        "    self.droneList = []\n",
        "    for i in range(len(drone_info)//3):\n",
        "        x_loc, y_loc, size = drone_info[3*i : 3*(i+1)]\n",
        "        self.droneList.append(Drone(pos=[x_loc, y_loc], color='b',  size=size))\n",
        "\n",
        "    ## Create the obstacle at random locations\n",
        "    self.n_obj = num_obstacles # number of objects\n",
        "    self.obstacleList = []\n",
        "    r_coords = np.random.randint(0, self.canvas.height, (self.n_obj)) # random rows\n",
        "    c_coords = np.random.randint(0, self.canvas.width, (self.n_obj)) # random columns\n",
        "    # Width and height would be chosen from 10,15,20,25,30 randomly\n",
        "    for i in range(len(r_coords)):\n",
        "        self.obstacleList.append(Obstacle(pos=[r_coords[i], c_coords[i]], \n",
        "                                    size=[np.random.choice([10,15,20,25,30]),\n",
        "                                          np.random.choice([10,15,20,25,30])]))\n",
        "\n",
        "    ### Environement image as a numpy array\n",
        "    self.env_img   = np.zeros(self.canvas.grid.shape+(3,), dtype=np.uint8)\n",
        "    ### Coverage information\n",
        "    self.coverage  = np.zeros(self.canvas.grid.shape, dtype=np.uint8)\n",
        "    ### Obstacle map information\n",
        "    self.obstacle_map = np.zeros(self.canvas.grid.shape, dtype=np.uint8)\n",
        "    #### Drone Map\n",
        "    self.drone_map = np.zeros(self.canvas.grid.shape+(3,), dtype=np.uint8)\n",
        "    #### Saving initial state for resets\n",
        "    self.inital_state = [self.playerList.copy(), self.droneList.copy(), self.obstacleList.copy()]\n",
        "\n",
        "    ### Update entites in screen\n",
        "    self.update_all() \n",
        "    self.process_screen()\n",
        "\n",
        "  def step(self, action):\n",
        "    ### Update robots' locations\n",
        "    for player in self.playerList:\n",
        "        # player.pos = lawn_mover(player, data_img)\n",
        "        player.pos = greedy_algorithm(player, self.env_img)\n",
        "        # player.move(np.random.choice(['up', 'down', 'left', 'right']), player.size, canvas)\n",
        "\n",
        "    ### Update drones' locations\n",
        "    for drone in self.droneList:\n",
        "         drone.move(self.action_list[action], drone.size//10, self.canvas)\n",
        "\n",
        "    ### Update graphics\n",
        "    self.update_all() \n",
        "    \n",
        "    ### Get updated coverage and observations\n",
        "    # self.covergae, self.env_img = self.process_screen(my_coverage=self.coverage, my_canvas=self.canvas)\n",
        "    self.process_screen()\n",
        "    '''\n",
        "    ## Get obstacle info\n",
        "    self.obstacle_map = self.get_obstacles(self.env_img)\n",
        "    '''\n",
        "    ### Get drone's view\n",
        "    self.drone_map = self.get_droneview(self.drone_map, self.env_img)\n",
        "    \n",
        "    ### Reward coverage from the drone's view\n",
        "    drone_coverage = self.get_coverage(self.drone_map)\n",
        "    drone_coverage = drone_coverage/255.0\n",
        "    reward = np.sum(drone_coverage)\n",
        "\n",
        "    # Persistent monitoring never stops\n",
        "    done = False\n",
        "\n",
        "    # No info as of now\n",
        "    info = None\n",
        "\n",
        "    # observation is same as the environment image\n",
        "    observation = self.env_img\n",
        "\n",
        "    return observation, reward, done, info\n",
        "\n",
        "  def reset(self):\n",
        "    self.playerList, self.droneList, self.obstacleList = self.inital_state\n",
        "    \n",
        "    self.process_screen()\n",
        "\n",
        "    return self.env_img  # reward, done, info can't be included\n",
        "\n",
        "  def render(self, mode='human'):\n",
        "    output.clear()\n",
        "    # cv2_imshow(data_img) #img_bgr[yv, xv])\n",
        "    print('\\t\\t Environment \\t\\t\\t Drone View ')\n",
        "    cv2_imshow(np.hstack([self.env_img, self.drone_map]))\n",
        "    # print('\\t\\t Coverage \\t\\t\\t Obstacles ')\n",
        "    # cv2_imshow(np.hstack([self.coverage, 255*self.obstacle_map]))\n",
        "    print('\\t\\t Coverage \\t\\t\\t Drone Coverage ')\n",
        "    cv2_imshow(np.hstack([self.coverage, self.drone_map[:,:,1]]))\n",
        "\n",
        "\n",
        "  def close (self):\n",
        "    pygame.close()\n",
        "\n",
        "  def update_all(self):\n",
        "    ## Update the environment\n",
        "    patch = self.canvas.update()\n",
        "    \n",
        "    ## Update the drone\n",
        "    for drone in self.droneList:\n",
        "        patch = drone.update(self.canvas)\n",
        "    \n",
        "    ## Update the robot locations\n",
        "    for player in self.playerList:\n",
        "        patch = player.update(self.canvas)\n",
        "\n",
        "    ## Update the obstacles\n",
        "    for obstacle in self.obstacleList:\n",
        "        patch = obstacle.update(self.canvas)  \n",
        "\n",
        "\n",
        "  def process_into_image(self):\n",
        "    grid = self.canvas.grid.copy()\n",
        "    player_area = np.zeros(self.canvas.grid.shape, dtype=int)\n",
        "    obstacle_area = np.zeros(self.canvas.grid.shape, dtype=int)\n",
        "    drone_area =  np.zeros(self.canvas.grid.shape, dtype=int)\n",
        "\n",
        "    for player in self.playerList:\n",
        "        radius = player.size\n",
        "        center = player.pos\n",
        "\n",
        "        xv, yv = np.meshgrid(range(-radius, radius+1), range(-radius, radius+1), sparse=False, indexing='ij')\n",
        "        valid_array = (xv**2 + yv**2 <= radius**2).astype(int)\n",
        "        \n",
        "        pos_array =  np.stack([xv, yv], axis=-1) + center\n",
        "\n",
        "        r_ind_min = max(0, -(center[0]-radius))\n",
        "        c_ind_min = max(0, -(center[1]-radius))\n",
        "\n",
        "        if center[0]+radius+1 <= self.canvas.width:\n",
        "            r_ind_max = 2*radius+1\n",
        "        else:\n",
        "            r_ind_max = -(center[0]+radius -self.canvas.width)-1\n",
        "        \n",
        "        if center[1]+radius+1 <= self.canvas.width:\n",
        "            c_ind_max = 2*radius+1\n",
        "        else:\n",
        "            c_ind_max = -(center[1]+radius - self.canvas.height)-1\n",
        "        \n",
        "        player_area[max(0, center[0]-radius) : min(center[0]+radius+1, self.canvas.width), \n",
        "                    max(0, center[1]-radius) : min(center[1]+radius+1, self.canvas.height)] = valid_array[r_ind_min:r_ind_max, c_ind_min:c_ind_max]\n",
        "        \n",
        "        \n",
        "    for obstacle in self.obstacleList:\n",
        "        corner = obstacle.pos\n",
        "        dimensions = obstacle.size\n",
        "        \n",
        "        obstacle_area[corner[0]:corner[0]+dimensions[0], corner[1]-dimensions[1]:corner[1]] = 1\n",
        "\n",
        "    for drone in self.droneList:\n",
        "        corner = drone.pos\n",
        "        dimensions = drone.size\n",
        "\n",
        "        center = corner - dimensions//2\n",
        "        \n",
        "        drone_area[center[0]:center[0] + dimensions, center[1] - dimensions :center[1]] = 1\n",
        "\n",
        "    return grid*0 + player_area*1 + obstacle_area * 2 + drone_area *3\n",
        "\n",
        "  def process_img(self, coverage, img_bgr):\n",
        "    drone_cover = img_bgr[:,:,0]\n",
        "    \n",
        "    coverage[coverage > 0] -= 5\n",
        "    coverage[coverage < 0] = 0\n",
        "    coverage[img_bgr[:,:,1] == 255] = 255\n",
        "\n",
        "    obstacle = img_bgr[:,:,2]\n",
        "\n",
        "    data_img = np.stack([drone_cover, coverage, obstacle], axis=2)\n",
        "    return data_img, coverage\n",
        "\n",
        "  def process_screen(self):\n",
        "    ### Create the images\n",
        "    pygame.display.flip()\n",
        "    \n",
        "    #convert image so it can be displayed in OpenCV\n",
        "    view = pygame.surfarray.array3d(self.canvas.screen)\n",
        "    #  convert from (width, height, channel) to (height, width, channel)\n",
        "    view = view.transpose([1, 0, 2])\n",
        "\n",
        "    #  convert from rgb to bgr\n",
        "    img_bgr = cv2.cvtColor(view, cv2.COLOR_RGB2BGR)\n",
        "    # Convert from x-y format to row-column format and get images as numpy array\n",
        "    xv, yv = np.meshgrid(range(img_bgr.shape[0]), range(img_bgr.shape[1]), indexing='ij')\n",
        "    self.env_img, self.coverage = self.process_img(self.coverage, img_bgr[yv, xv])\n",
        "    \n",
        "     ## Clip the values to void overflow\n",
        "    self.env_img = np.clip(img_bgr[yv, xv].astype(int) + self.env_img.astype(int), a_min=0, a_max=255)\n",
        "    \n",
        "    ## Update pygame environemnt\n",
        "    surf = pygame.surfarray.make_surface(self.env_img)\n",
        "    self.canvas.screen.blit(surf, (0, 0))\n",
        "    \n",
        "    ## Convert data type from int to bytes\n",
        "    self.env_img = self.env_img.astype(np.uint8)\n",
        "\n",
        "  def get_coverage(self, img_bgr):\n",
        "    return img_bgr[:,:,1].astype(int)\n",
        "\n",
        "  def get_obstacles(self, img_bgr):\n",
        "    return (img_bgr[:,:,2] > 0).astype(int)\n",
        "\n",
        "  def get_droneview(self, drone_map, img_bgr):\n",
        "    prev_map = drone_map.astype(int)\n",
        "    drone_map = np.clip(prev_map-self.latency_factor, 0, 255).astype(np.uint8)\n",
        "    \n",
        "    for drone in self.droneList:\n",
        "        drone_map[drone.pos[0]:drone.pos[0]+drone.size, drone.pos[1]:drone.pos[1]+drone.size,1:] = img_bgr[drone.pos[0]:drone.pos[0]+drone.size, drone.pos[1]:drone.pos[1]+drone.size,1:]\n",
        "   \n",
        "    return drone_map"
      ],
      "execution_count": 8,
      "outputs": []
    },
    {
      "cell_type": "markdown",
      "metadata": {
        "id": "Z3DPaOA0REOc"
      },
      "source": [
        "### Running with environment"
      ]
    },
    {
      "cell_type": "code",
      "metadata": {
        "id": "xlFdPTNzNIuZ"
      },
      "source": [
        "height, width = 300, 300\n",
        "robot_info = [20, 10, 10, 0, 260, 10, 200, 10, 10, 250, 200, 10]\n",
        "drone_info = [150, 150, 100]\n",
        "num_obstacles = 40 # number of objects\n",
        "drone_latency = 2\n",
        "\n",
        "env = PMGridEnv(height, width, robot_info, drone_info, num_obstacles, drone_latency)"
      ],
      "execution_count": 11,
      "outputs": []
    },
    {
      "cell_type": "code",
      "metadata": {
        "id": "DlSckRYzNJ9b",
        "outputId": "694f2384-ee89-439e-ebea-237575de90d9",
        "colab": {
          "base_uri": "https://localhost:8080/",
          "height": 848
        }
      },
      "source": [
        "for i in range(300):\n",
        "    observation, reward, done, info = env.step(0)\n",
        "    print(reward)\n",
        "    env.render()\n",
        "    time.sleep(0.1)\n",
        "    "
      ],
      "execution_count": 12,
      "outputs": [
        {
          "output_type": "stream",
          "text": [
            "\t\t Environment \t\t\t Drone View \n"
          ],
          "name": "stdout"
        },
        {
          "output_type": "display_data",
          "data": {
            "image/png": "[encoded data removed]",
            "text/plain": [
              "<PIL.Image.Image image mode=RGB size=600x300 at 0x7FD60A8DAA20>"
            ]
          },
          "metadata": {
            "tags": []
          }
        },
        {
          "output_type": "stream",
          "text": [
            "\t\t Coverage \t\t\t Drone Coverage \n"
          ],
          "name": "stdout"
        },
        {
          "output_type": "display_data",
          "data": {
            "image/png": "[encoded data removed]",
            "text/plain": [
              "<PIL.Image.Image image mode=L size=600x300 at 0x7FD60A8DA9E8>"
            ]
          },
          "metadata": {
            "tags": []
          }
        },
        {
          "output_type": "error",
          "ename": "KeyboardInterrupt",
          "evalue": "ignored",
          "traceback": [
            "\u001b[0;31m---------------------------------------------------------------------------\u001b[0m",
            "\u001b[0;31mKeyboardInterrupt\u001b[0m                         Traceback (most recent call last)",
            "\u001b[0;32m<ipython-input-12-c54ebb646afb>\u001b[0m in \u001b[0;36m<module>\u001b[0;34m()\u001b[0m\n\u001b[1;32m      3\u001b[0m     \u001b[0mprint\u001b[0m\u001b[0;34m(\u001b[0m\u001b[0mreward\u001b[0m\u001b[0;34m)\u001b[0m\u001b[0;34m\u001b[0m\u001b[0;34m\u001b[0m\u001b[0m\n\u001b[1;32m      4\u001b[0m     \u001b[0menv\u001b[0m\u001b[0;34m.\u001b[0m\u001b[0mrender\u001b[0m\u001b[0;34m(\u001b[0m\u001b[0;34m)\u001b[0m\u001b[0;34m\u001b[0m\u001b[0;34m\u001b[0m\u001b[0m\n\u001b[0;32m----> 5\u001b[0;31m     \u001b[0mtime\u001b[0m\u001b[0;34m.\u001b[0m\u001b[0msleep\u001b[0m\u001b[0;34m(\u001b[0m\u001b[0;36m0.1\u001b[0m\u001b[0;34m)\u001b[0m\u001b[0;34m\u001b[0m\u001b[0;34m\u001b[0m\u001b[0m\n\u001b[0m\u001b[1;32m      6\u001b[0m \u001b[0;34m\u001b[0m\u001b[0m\n",
            "\u001b[0;31mKeyboardInterrupt\u001b[0m: "
          ]
        }
      ]
    },
    {
      "cell_type": "code",
      "metadata": {
        "id": "6F4RsiB8RgmD",
        "outputId": "f3d59d07-86d6-4a0b-86b2-edbf16f99061",
        "colab": {
          "base_uri": "https://localhost:8080/",
          "height": 317
        }
      },
      "source": [
        "env.reset()\n",
        "cv2_imshow(env.env_img)"
      ],
      "execution_count": 91,
      "outputs": [
        {
          "output_type": "display_data",
          "data": {
            "image/png": "[encoded data removed]",
            "text/plain": [
              "<PIL.Image.Image image mode=RGB size=300x300 at 0x7F694C6D7208>"
            ]
          },
          "metadata": {
            "tags": []
          }
        }
      ]
    },
    {
      "cell_type": "code",
      "metadata": {
        "id": "jjNKi4aPSraK"
      },
      "source": [
        ""
      ],
      "execution_count": null,
      "outputs": []
    }
  ]
}