{
  "nbformat": 4,
  "nbformat_minor": 0,
  "metadata": {
    "colab": {
      "name": "pm_python.ipynb",
      "provenance": [],
      "authorship_tag": "ABX9TyMl36LyoTUrMwrHaX0PiJLn",
      "include_colab_link": true
    },
    "kernelspec": {
      "name": "python3",
      "display_name": "Python 3"
    }
  },
  "cells": [
    {
      "cell_type": "markdown",
      "metadata": {
        "id": "view-in-github",
        "colab_type": "text"
      },
      "source": [
        "<a href=\"https://colab.research.google.com/github/kulbir-ahluwalia/CMSC818B_MiniProject_2/blob/main/python/pm_python.ipynb\" target=\"_parent\"><img src=\"https://colab.research.google.com/assets/colab-badge.svg\" alt=\"Open In Colab\"/></a>"
      ]
    },
    {
      "cell_type": "code",
      "metadata": {
        "id": "sQbaTdYq2Nng"
      },
      "source": [
        "%load_ext autoreload\n",
        "%autoreload 2"
      ],
      "execution_count": 1,
      "outputs": []
    },
    {
      "cell_type": "code",
      "metadata": {
        "id": "RmZmiuPj96fV",
        "outputId": "cd20779f-9bba-4dab-b462-90febbf21ea1",
        "colab": {
          "base_uri": "https://localhost:8080/"
        }
      },
      "source": [
        "!pip install pygame"
      ],
      "execution_count": 2,
      "outputs": [
        {
          "output_type": "stream",
          "text": [
            "Collecting pygame\n",
            "\u001b[?25l  Downloading https://files.pythonhosted.org/packages/87/4c/2ebe8ab1a695a446574bc48d96eb3503649893be8c769e7fafd65fd18833/pygame-2.0.0-cp36-cp36m-manylinux1_x86_64.whl (11.5MB)\n",
            "\u001b[K     |████████████████████████████████| 11.5MB 11.4MB/s \n",
            "\u001b[?25hInstalling collected packages: pygame\n",
            "Successfully installed pygame-2.0.0\n"
          ],
          "name": "stdout"
        }
      ]
    },
    {
      "cell_type": "code",
      "metadata": {
        "id": "_1TnTnUo9-1p",
        "outputId": "3191eb5e-202c-4b86-b062-2c561af90f73",
        "colab": {
          "base_uri": "https://localhost:8080/"
        }
      },
      "source": [
        "import cv2\n",
        "import numpy as np\n",
        "from google.colab.patches import cv2_imshow\n",
        "from google.colab import output\n",
        "import time \n",
        "import os, sys\n",
        "import pygame\n",
        "\n",
        "\n",
        "# set SDL to use the dummy NULL video driver, \n",
        "#   so it doesn't need a windowing system.\n",
        "os.environ[\"SDL_VIDEODRIVER\"] = \"dummy\""
      ],
      "execution_count": 3,
      "outputs": [
        {
          "output_type": "stream",
          "text": [
            "pygame 2.0.0 (SDL 2.0.12, python 3.6.9)\n",
            "Hello from the pygame community. https://www.pygame.org/contribute.html\n"
          ],
          "name": "stdout"
        }
      ]
    },
    {
      "cell_type": "code",
      "metadata": {
        "id": "MtQb9iil-DZz"
      },
      "source": [
        "## Import classes for elements and visualization\n",
        "from actors import Player, Obstacle\n",
        "from env import Canvas, process_into_image, process_img"
      ],
      "execution_count": 6,
      "outputs": []
    },
    {
      "cell_type": "markdown",
      "metadata": {
        "id": "AJloCM75-3Va"
      },
      "source": [
        "### Defining the environement"
      ]
    },
    {
      "cell_type": "code",
      "metadata": {
        "id": "wn3rFSyn-F2z"
      },
      "source": [
        "## Canvas is the grid we are going to use\n",
        "canvas = Canvas(300,300)\n",
        "\n",
        "## Create the robots\n",
        "playerList = []\n",
        "playerList.append(Player(pos=[20, 10], color='g', size=10))\n",
        "playerList.append(Player(pos=[0, 260], color='g', size=10))\n",
        "# playerList.append(Player(pos=[200, 300], color='g', size=10))\n",
        "# playerList.append(Player(pos=[400, 400], color='g', size=10))\n",
        "\n",
        "## Create teh robots at random locations\n",
        "n_obj = 20 # number of objects\n",
        "obstacleList = []\n",
        "# obstacleList.append(Obstacle(pos=[60, 60], size=[10,15]))\n",
        "# obstacleList.append(Obstacle(pos=[60, 60],size=[20,10]))\n",
        "r_coords = np.random.randint(0, canvas.height, (n_obj)) # random rows\n",
        "c_coords = np.random.randint(0, canvas.width, (n_obj)) # random columns\n",
        "# Width and height would be chosen from 10,15,20,25,30 randomly\n",
        "for i in range(len(r_coords)):\n",
        "    obstacleList.append(Obstacle(pos=[r_coords[i], c_coords[i]], \n",
        "                                 size=[np.random.choice([10,15,20,25,30]),np.random.choice([10,15,20,25,30])]))\n",
        "\n",
        "\n",
        "### Add drone to the environememnt\n",
        "droneList = []\n",
        "# droneList.append(Drone(pos=[50,70], color='g',  size=30))\n",
        "\n"
      ],
      "execution_count": 10,
      "outputs": []
    },
    {
      "cell_type": "markdown",
      "metadata": {
        "id": "elzLFt7I_b-_"
      },
      "source": [
        "### Algorithms for testing"
      ]
    },
    {
      "cell_type": "code",
      "metadata": {
        "id": "QCUTHZ-6-QO0"
      },
      "source": [
        "# pygame.init()\n",
        "\n",
        "## Step size. How many grids would the robot move at each step\n",
        "step_size = playerList[0].size\n",
        "\n",
        "## the dictionary defniing how many to update the location\n",
        "move_dict = {\n",
        "    'left' : np.array([0, -step_size]),\n",
        "    'up' : np.array([-step_size,0]),\n",
        "    'right' : np.array([0, step_size]),\n",
        "    'down' : np.array([step_size,0])\n",
        "}\n",
        "\n",
        "\n",
        "    \n"
      ],
      "execution_count": 11,
      "outputs": []
    },
    {
      "cell_type": "markdown",
      "metadata": {
        "id": "WtiZ9cyt_hz4"
      },
      "source": [
        "#### Lawnmower algorithm with *hover over buildings*"
      ]
    },
    {
      "cell_type": "code",
      "metadata": {
        "id": "pyuOMywb_ann"
      },
      "source": [
        "## Order of moves for anti-clockwise movement\n",
        "anti_clock_order_dict = {'up' : 0,\n",
        "                    'right': 1,\n",
        "                    'down' : 2,\n",
        "                    'left': 3}\n",
        "anti_clock_order = ['down', 'right', 'up', 'left']\n",
        "\n",
        "## Function to check if a location is valid (within grid)\n",
        "def is_valid(pos, limits):\n",
        "    if ((pos[0] < 0) or (pos[1] < 0) or (pos[0] >= limits[0]) or (pos[1] >= limits[1])):\n",
        "        return False\n",
        "    else:\n",
        "        return True\n",
        "\n",
        "## The lawnmower algorithm\n",
        "def lawn_mover(player, data_img):\n",
        "    pos = player.pos  # Get players location\n",
        "    obstacle = (data_img[:,:,0] > 0).astype(int) # get grid indicating where objects are\n",
        "    covered = (data_img[:,:,1] > 0).astype(int) # get grid indicating which areas have been covered\n",
        "    # covered[data_img[:,:,1] == 255] = 0\n",
        "\n",
        "    # if the last action is not recorded, move to left or right as per the row\n",
        "    if player.prev_action == None:\n",
        "        player.prev_action = ['right', 'left'][pos[1]%2]\n",
        "    \n",
        "\n",
        "    ####\n",
        "    ## Iterate over each direction, till yu find a valid orientation to move\n",
        "    for i in range(4):\n",
        "        player.prev_action = anti_clock_order[(anti_clock_order_dict[player.prev_action]+i) %4]\n",
        "        move = move_dict[player.prev_action]\n",
        "        print('CHECK: ', pos, move, player.prev_action)\n",
        "        temp_pos = pos + move\n",
        "        if not is_valid(temp_pos, data_img.shape[:2]):\n",
        "            continue\n",
        "        else:\n",
        "            if (covered[temp_pos[0], temp_pos[1]] == 1):# or (obstacle[temp_pos[0], temp_pos[1]] == 1):\n",
        "            # if (obstacle[temp_pos[0], temp_pos[1]] == 1):\n",
        "                continue\n",
        "            else:\n",
        "                break\n",
        "    return temp_pos\n",
        "\n"
      ],
      "execution_count": 12,
      "outputs": []
    },
    {
      "cell_type": "markdown",
      "metadata": {
        "id": "Lw1S3UyJ_aZA"
      },
      "source": [
        "#### Greedy movement"
      ]
    },
    {
      "cell_type": "code",
      "metadata": {
        "id": "aBYvQCiq--7j"
      },
      "source": [
        "## Greedy algorithm (distributed)\n",
        "def greedy_algorithm(player, data_img):\n",
        "    pos = player.pos #get player location\n",
        "    obstacle = data_img[:,:,2].astype(int) # get grid indicating where objects are\n",
        "    covered = (data_img[:,:,1]).astype(int) # get grid indicating which areas have been covered and how much latency is there\n",
        "    # covered[data_img[:,:,1] == 255] = 0\n",
        "    cost_grid = obstacle*10 + covered # give high cost to obstacles\n",
        "\n",
        "    # if the last action is not recorded, move to left or right as per the row\n",
        "    action_list = ['right', 'down', 'left', 'up']\n",
        "    if player.prev_action == None:\n",
        "        player.prev_action = ['right', 'left'][pos[0]%2]\n",
        "\n",
        "\n",
        "    #######\n",
        "    ## Looks into future move for all 4 directions, move whereever robot would have least cost\n",
        "    temp_action_list = []\n",
        "    temp_cost_list = []\n",
        "    for i in range(4):\n",
        "        new_action = action_list[ (action_list.index(player.prev_action) + i) % 4 ]\n",
        "        move = move_dict[ new_action ]\n",
        "        \n",
        "        temp_pos = pos + move\n",
        "        # print('CHECK: ', pos, temp_pos, new_action)\n",
        "        if not is_valid(temp_pos, data_img.shape[:2]):\n",
        "            # print('NOT Valid: ', pos, temp_pos)\n",
        "            temp_action_list.append(new_action)\n",
        "            temp_cost_list.append(50000)\n",
        "            # continue\n",
        "        else:\n",
        "            # if (covered[temp_pos[0], temp_pos[1]] == 1) or (obstacle[temp_pos[0], temp_pos[1]] == 1):\n",
        "            temp_action_list.append(new_action)\n",
        "            temp_cost = np.sum(cost_grid[max(0,temp_pos[0]-player.size):min(temp_pos[0]+player.size, data_img.shape[0]), \n",
        "                                         max(0, temp_pos[1]-player.size): min(temp_pos[1]+player.size,data_img.shape[1])])\n",
        "            temp_cost_list.append(temp_cost)\n",
        "\n",
        "                # print('OCCUPIED: ', covered[temp_pos[0], temp_pos[1]], obstacle[temp_pos[0], temp_pos[1]] )\n",
        "            #     continue\n",
        "            # else:\n",
        "            #     break\n",
        "\n",
        "    # print('Costs: ', temp_cost_list)\n",
        "    # print('Actions: ', temp_action_list)\n",
        "\n",
        "    # Choose next action based on where the cost would be least\n",
        "    new_action = temp_action_list[np.argmin(temp_cost_list)]\n",
        "    temp_pos = pos + move_dict[ new_action ]\n",
        "\n",
        "    # update last action\n",
        "    player.prev_action = new_action\n",
        "    \n",
        "    # if teh move is not valid, do not move\n",
        "    if not is_valid(temp_pos, data_img.shape[:2]):\n",
        "        temp_pos = pos\n",
        "        \n",
        "    return temp_pos\n"
      ],
      "execution_count": 13,
      "outputs": []
    },
    {
      "cell_type": "code",
      "metadata": {
        "id": "u-bYqi6N-KPb"
      },
      "source": [
        "### Envoronemtn image as a numpy array\n",
        "data_img = np.zeros(canvas.grid.shape+(3,))\n",
        "### Coverage information\n",
        "coverage = np.zeros(canvas.grid.shape, dtype=np.uint8)\n",
        "\n",
        "## Run for 300 iterations\n",
        "for i in range(300):\n",
        "\n",
        "    ### Get next location for each robot\n",
        "    for player in playerList:\n",
        "        # player.pos = lawn_mover(player, data_img)\n",
        "        player.pos = greedy_algorithm(player, data_img)\n",
        "\n",
        "    ## Update the environment\n",
        "    patch = canvas.update()\n",
        "    \n",
        "    ## Update the robot locations\n",
        "    for player in playerList:\n",
        "        patch = player.update(canvas)\n",
        "    ## Update the obstacles\n",
        "    for obstacle in obstacleList:\n",
        "        patch = obstacle.update(canvas)\n",
        "    ## Update the drone\n",
        "    for drone in droneList:\n",
        "        patch = drone.update(canvas)        \n",
        "\n",
        "    ### Create the images\n",
        "    pygame.display.flip()\n",
        "    # data_img = process_into_image(canvas, playerList, obstacleList, droneList)\n",
        "    \n",
        "    #convert image so it can be displayed in OpenCV\n",
        "    view = pygame.surfarray.array3d(canvas.screen)\n",
        "\n",
        "    #  convert from (width, height, channel) to (height, width, channel)\n",
        "    view = view.transpose([1, 0, 2])\n",
        "\n",
        "    #  convert from rgb to bgr\n",
        "    img_bgr = cv2.cvtColor(view, cv2.COLOR_RGB2BGR)\n",
        "    # Convert from x-y format to row-column format and get images as numpy array\n",
        "    xv, yv = np.meshgrid(range(img_bgr.shape[0]), range(img_bgr.shape[1]), indexing='ij')\n",
        "    data_img, coverage = process_img(coverage, img_bgr[yv, xv])\n",
        "    \n",
        "    # dummy_img = np.zeros(canvas.grid.shape+(3,))\n",
        "    # dummy_img[:,:,1] = coverage\n",
        "    # dummy_img = np.clip(img_bgr[yv, xv].astype(int) + dummy_img.astype(int), a_min=0, a_max=255)\n",
        "    \n",
        "    ## Clip the values to void overflow\n",
        "    data_img = np.clip(img_bgr[yv, xv].astype(int) + data_img.astype(int), a_min=0, a_max=255)\n",
        "    \n",
        "    ## Update pygame environemnt\n",
        "    surf = pygame.surfarray.make_surface(data_img)\n",
        "    canvas.screen.blit(surf, (0, 0))\n",
        "    \n",
        "    ## Convert data type from int to bytes\n",
        "    data_img = data_img.astype(np.uint8)\n",
        "\n",
        "    #Display image, clear cell every 0.5 seconds\n",
        "    #convert image so it can be displayed in OpenCV\n",
        "    view = pygame.surfarray.array3d(canvas.screen)\n",
        "    \n",
        "    #  convert from (width, height, channel) to (height, width, channel)\n",
        "    view = view.transpose([1, 0, 2])\n",
        "    img_bgr = cv2.cvtColor(view, cv2.COLOR_RGB2BGR)\n",
        "    cv2_imshow(data_img) #img_bgr[yv, xv])\n",
        "\n",
        "    ## Wait 0.1 second before running next iteration\n",
        "    time.sleep(0.1)\n",
        "    output.clear()\n",
        "\n",
        "    # if i == 3:\n",
        "    #     break\n",
        "    "
      ],
      "execution_count": 14,
      "outputs": []
    },
    {
      "cell_type": "code",
      "metadata": {
        "id": "f0rXabCECEm3"
      },
      "source": [
        ""
      ],
      "execution_count": null,
      "outputs": []
    }
  ]
}